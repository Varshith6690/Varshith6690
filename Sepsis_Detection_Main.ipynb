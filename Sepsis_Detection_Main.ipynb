{
  "nbformat": 4,
  "nbformat_minor": 0,
  "metadata": {
    "colab": {
      "provenance": [],
      "gpuType": "T4",
      "mount_file_id": "1WTreBOIuPFyLI3OPj52IDRrCPXhCh2A0",
      "authorship_tag": "ABX9TyP11kS2Ow3Rv7pxl5v5TktD",
      "include_colab_link": true
    },
    "kernelspec": {
      "name": "python3",
      "display_name": "Python 3"
    },
    "language_info": {
      "name": "python"
    },
    "accelerator": "GPU"
  },
  "cells": [
    {
      "cell_type": "markdown",
      "metadata": {
        "id": "view-in-github",
        "colab_type": "text"
      },
      "source": [
        "<a href=\"https://colab.research.google.com/github/Varshith6690/Varshith6690/blob/main/Sepsis_Detection_Main.ipynb\" target=\"_parent\"><img src=\"https://colab.research.google.com/assets/colab-badge.svg\" alt=\"Open In Colab\"/></a>"
      ]
    },
    {
      "cell_type": "code",
      "source": [
        "# Install necessary libraries\n",
        "!pip install pandas scikit-learn joblib imbalanced-learn\n",
        "\n",
        "# Import libraries\n",
        "import pandas as pd\n",
        "import numpy as np\n",
        "from sklearn.ensemble import RandomForestClassifier\n",
        "from sklearn.model_selection import train_test_split\n",
        "from sklearn.metrics import accuracy_score, classification_report, confusion_matrix\n",
        "from sklearn.impute import SimpleImputer\n",
        "from imblearn.over_sampling import SMOTE\n",
        "import joblib\n",
        "from sklearn.utils import resample"
      ],
      "metadata": {
        "colab": {
          "base_uri": "https://localhost:8080/"
        },
        "id": "FxsKtaS-ux7e",
        "outputId": "5d5d1f10-9f81-4cf1-9c1a-59238e04e4c2"
      },
      "execution_count": 2,
      "outputs": [
        {
          "output_type": "stream",
          "name": "stdout",
          "text": [
            "Requirement already satisfied: pandas in /usr/local/lib/python3.10/dist-packages (2.2.2)\n",
            "Requirement already satisfied: scikit-learn in /usr/local/lib/python3.10/dist-packages (1.5.2)\n",
            "Requirement already satisfied: joblib in /usr/local/lib/python3.10/dist-packages (1.4.2)\n",
            "Requirement already satisfied: imbalanced-learn in /usr/local/lib/python3.10/dist-packages (0.12.4)\n",
            "Requirement already satisfied: numpy>=1.22.4 in /usr/local/lib/python3.10/dist-packages (from pandas) (1.26.4)\n",
            "Requirement already satisfied: python-dateutil>=2.8.2 in /usr/local/lib/python3.10/dist-packages (from pandas) (2.8.2)\n",
            "Requirement already satisfied: pytz>=2020.1 in /usr/local/lib/python3.10/dist-packages (from pandas) (2024.2)\n",
            "Requirement already satisfied: tzdata>=2022.7 in /usr/local/lib/python3.10/dist-packages (from pandas) (2024.2)\n",
            "Requirement already satisfied: scipy>=1.6.0 in /usr/local/lib/python3.10/dist-packages (from scikit-learn) (1.13.1)\n",
            "Requirement already satisfied: threadpoolctl>=3.1.0 in /usr/local/lib/python3.10/dist-packages (from scikit-learn) (3.5.0)\n",
            "Requirement already satisfied: six>=1.5 in /usr/local/lib/python3.10/dist-packages (from python-dateutil>=2.8.2->pandas) (1.16.0)\n"
          ]
        }
      ]
    },
    {
      "cell_type": "code",
      "source": [
        "from sklearn.preprocessing import StandardScaler\n",
        "from sklearn.pipeline import Pipeline\n",
        "# Load the dataset\n",
        "df = pd.read_csv('/content/sepsis.csv')\n",
        "\n",
        "# Keep only specified columns\n",
        "columns_to_keep = ['HR', 'O2Sat', 'Temp', 'SBP', 'Resp', 'SepsisLabel']\n",
        "df = df[columns_to_keep]\n",
        "\n",
        "# Check missing values in 'Temp' and fill them optimally\n",
        "imputer = SimpleImputer(strategy='median')\n",
        "df['Temp'] = imputer.fit_transform(df[['Temp']])\n",
        "\n",
        "# Drop any remaining missing values\n",
        "df = df.dropna()\n",
        "\n",
        "# Separate majority and minority classes\n",
        "df_majority = df[df.SepsisLabel == 0]\n",
        "df_minority = df[df.SepsisLabel == 1]\n",
        "\n",
        "# Upsample minority class\n",
        "df_minority_upsampled = resample(df_minority,\n",
        "                                  replace=True,     # sample with replacement\n",
        "                                  n_samples=len(df_majority),  # to match majority class\n",
        "                                  random_state=123)  # reproducible results\n",
        "\n",
        "# Combine majority class with upsampled minority class\n",
        "df_upsampled = pd.concat([df_majority, df_minority_upsampled])\n",
        "\n",
        "# Check the new distribution of SepsisLabel\n",
        "print(\"\\nSepsisLabel distribution after balancing:\\n\", df_upsampled.SepsisLabel.value_counts())\n",
        "\n",
        "# Split features and target variable\n",
        "X = df_upsampled.drop('SepsisLabel', axis=1)\n",
        "y = df_upsampled['SepsisLabel']\n",
        "\n",
        "# Split the dataset into training and testing sets\n",
        "X_train, X_test, y_train, y_test = train_test_split(X, y, test_size=0.2, random_state=42)\n"
      ],
      "metadata": {
        "colab": {
          "base_uri": "https://localhost:8080/"
        },
        "id": "gIP3AZALu3xn",
        "outputId": "b866c696-9dc0-4ca3-df80-d015a177768a"
      },
      "execution_count": 4,
      "outputs": [
        {
          "output_type": "stream",
          "name": "stdout",
          "text": [
            "\n",
            "SepsisLabel distribution after balancing:\n",
            " SepsisLabel\n",
            "0    37945\n",
            "1    37945\n",
            "Name: count, dtype: int64\n"
          ]
        }
      ]
    },
    {
      "cell_type": "code",
      "execution_count": 5,
      "metadata": {
        "colab": {
          "base_uri": "https://localhost:8080/"
        },
        "id": "ee-d_M2yua40",
        "outputId": "90adcfd2-c923-46f8-f78e-e28672630b59"
      },
      "outputs": [
        {
          "output_type": "stream",
          "name": "stdout",
          "text": [
            "Fitting 3 folds for each of 16 candidates, totalling 48 fits\n",
            "Optimized model saved as 'sepsis_rf_model_optimized.pkl'\n"
          ]
        }
      ],
      "source": [
        "from sklearn.model_selection import GridSearchCV\n",
        "\n",
        "# Define the Random Forest model\n",
        "rf_model = RandomForestClassifier(random_state=42)\n",
        "\n",
        "# Set up Grid Search for hyperparameter tuning\n",
        "param_grid = {\n",
        "    'n_estimators': [100, 200],  # Reduced from [100, 200, 300]\n",
        "    'max_depth': [None, 10],      # Reduced from [None, 10, 20, 30]\n",
        "    'min_samples_split': [2, 5],\n",
        "    'min_samples_leaf': [1, 2]\n",
        "}\n",
        "\n",
        "grid_search = GridSearchCV(estimator=rf_model, param_grid=param_grid, cv=3, scoring='accuracy', n_jobs=-1, verbose=2)\n",
        "grid_search.fit(X_train, y_train)\n",
        "\n",
        "# Best model\n",
        "best_rf_model = grid_search.best_estimator_\n",
        "\n",
        "# Save the best model\n",
        "joblib.dump(best_rf_model, 'sepsis_rf_model_optimized.pkl')\n",
        "print(\"Optimized model saved as 'sepsis_rf_model_optimized.pkl'\")\n"
      ]
    },
    {
      "cell_type": "code",
      "source": [
        "# Predict on the test set\n",
        "y_pred = best_rf_model.predict(X_test)\n",
        "\n",
        "# Evaluate the model\n",
        "accuracy = accuracy_score(y_test, y_pred)\n",
        "print(f\"\\nOptimized Model Accuracy: {accuracy * 100:.2f}%\")\n",
        "print(\"\\nClassification Report:\\n\", classification_report(y_test, y_pred))\n",
        "\n",
        "# Confusion Matrix\n",
        "conf_matrix = confusion_matrix(y_test, y_pred)\n",
        "print(\"\\nConfusion Matrix:\\n\", conf_matrix)\n",
        "\n",
        "# Visualize the confusion matrix\n",
        "plt.figure(figsize=(8, 6))\n",
        "sns.heatmap(conf_matrix, annot=True, fmt='d', cmap='Blues',\n",
        "            xticklabels=['No Sepsis', 'Sepsis'],\n",
        "            yticklabels=['No Sepsis', 'Sepsis'])\n",
        "plt.ylabel('Actual')\n",
        "plt.xlabel('Predicted')\n",
        "plt.title('Confusion Matrix')\n",
        "plt.show()\n"
      ],
      "metadata": {
        "colab": {
          "base_uri": "https://localhost:8080/",
          "height": 859
        },
        "id": "_50hci3PA0gJ",
        "outputId": "79ef8c77-c1b4-4ae3-947f-b0cee28befa5"
      },
      "execution_count": 7,
      "outputs": [
        {
          "output_type": "stream",
          "name": "stdout",
          "text": [
            "\n",
            "Optimized Model Accuracy: 96.03%\n",
            "\n",
            "Classification Report:\n",
            "               precision    recall  f1-score   support\n",
            "\n",
            "           0       0.93      1.00      0.96      7552\n",
            "           1       1.00      0.92      0.96      7626\n",
            "\n",
            "    accuracy                           0.96     15178\n",
            "   macro avg       0.96      0.96      0.96     15178\n",
            "weighted avg       0.96      0.96      0.96     15178\n",
            "\n",
            "\n",
            "Confusion Matrix:\n",
            " [[7523   29]\n",
            " [ 574 7052]]\n"
          ]
        },
        {
          "output_type": "display_data",
          "data": {
            "text/plain": [
              "<Figure size 800x600 with 2 Axes>"
            ],
            "image/png": "[encoded data removed]"
          },
          "metadata": {}
        }
      ]
    },
    {
      "cell_type": "code",
      "source": [
        "from flask import Flask, request, jsonify\n",
        "import joblib\n",
        "import numpy as np\n",
        "\n",
        "# Load the trained model\n",
        "model_path = '/content/sepsis_rf_model_optimized.pkl'\n",
        "model = joblib.load(model_path)\n",
        "\n",
        "# Define alert thresholds\n",
        "def get_alert_level(probability):\n",
        "    if probability <= 0.3:\n",
        "        return \"Green: Normal (Low Risk)\"\n",
        "    elif 0.3 < probability <= 0.7:\n",
        "        return \"Yellow: Moderate Risk\"\n",
        "    else:\n",
        "        return \"Red: High Risk\"\n",
        "\n",
        "# Initialize Flask app\n",
        "app = Flask(__name__)\n",
        "\n",
        "# Define the prediction endpoint\n",
        "@app.route('/predict', methods=['POST'])\n",
        "def predict():\n",
        "    # Parse incoming JSON data\n",
        "    data = request.get_json()\n",
        "\n",
        "    try:\n",
        "        # Extract features for prediction\n",
        "        features = np.array([[data[\"HR\"], data[\"O2Sat\"], data[\"Temp\"], data[\"SBP\"], data[\"Resp\"]]])\n",
        "    except KeyError as e:\n",
        "        return jsonify({\"error\": f\"Missing field: {str(e)}\"}), 400\n",
        "\n",
        "    # Generate prediction\n",
        "    probability = model.predict_proba(features)[0, 1]  # Probability for sepsis\n",
        "    alert_level = get_alert_level(probability)\n",
        "\n",
        "    return jsonify({\n",
        "        \"sepsis_probability\": probability,\n",
        "        \"alert_level\": alert_level\n",
        "    })\n",
        "\n",
        "if __name__ == '__main__':\n",
        "    app.run(debug=True)\n"
      ],
      "metadata": {
        "id": "EmtUZ-qy1_Y9",
        "colab": {
          "base_uri": "https://localhost:8080/"
        },
        "outputId": "8632bd02-a8cf-450f-b6b7-796b4a400905"
      },
      "execution_count": 11,
      "outputs": [
        {
          "output_type": "stream",
          "name": "stdout",
          "text": [
            " * Serving Flask app '__main__'\n",
            " * Debug mode: on\n"
          ]
        },
        {
          "output_type": "stream",
          "name": "stderr",
          "text": [
            "INFO:werkzeug:\u001b[31m\u001b[1mWARNING: This is a development server. Do not use it in a production deployment. Use a production WSGI server instead.\u001b[0m\n",
            " * Running on http://127.0.0.1:5000\n",
            "INFO:werkzeug:\u001b[33mPress CTRL+C to quit\u001b[0m\n",
            "INFO:werkzeug: * Restarting with stat\n"
          ]
        }
      ]
    },
    {
      "cell_type": "code",
      "source": [
        "import random\n",
        "import time\n",
        "import requests\n",
        "\n",
        "# Simulate real-time patient data\n",
        "def generate_real_time_data():\n",
        "    return {\n",
        "        \"HR\": random.randint(60, 120),         # Heart rate\n",
        "        \"O2Sat\": random.uniform(85, 100),     # Oxygen saturation\n",
        "        \"Temp\": random.uniform(36, 39),       # Temperature\n",
        "        \"SBP\": random.randint(90, 140),       # Systolic blood pressure\n",
        "        \"Resp\": random.randint(12, 30)        # Respiratory rate\n",
        "    }\n",
        "\n",
        "# Send data to the Flask API for prediction\n",
        "api_url = \"http://127.0.0.1:5000/predict\"  # Update with your Flask app URL if different\n",
        "while True:\n",
        "    patient_data = generate_real_time_data()\n",
        "    response = requests.post(api_url, json=patient_data)\n",
        "    print(\"Real-Time Data Sent:\", patient_data)\n",
        "    print(\"Response:\", response.json())  # Display prediction and alert level\n",
        "    time.sleep(5)  # Simulate 5-second intervals\n"
      ],
      "metadata": {
        "id": "_tDi9emebgEr"
      },
      "execution_count": null,
      "outputs": []
    },
    {
      "cell_type": "code",
      "source": [
        "from termcolor import colored\n",
        "\n",
        "def display_alert(alert_response):\n",
        "    alert_level = alert_response[\"alert_level\"]\n",
        "\n",
        "    if \"Green\" in alert_level:\n",
        "        print(colored(f\"ALERT: {alert_level}\", 'green'))\n",
        "    elif \"Yellow\" in alert_level:\n",
        "        print(colored(f\"ALERT: {alert_level}\", 'yellow'))\n",
        "    elif \"Red\" in alert_level:\n",
        "        print(colored(f\"ALERT: {alert_level}\", 'red'))\n",
        "\n",
        "# Example usage\n",
        "response = {\n",
        "    \"sepsis_probability\": 0.85,\n",
        "    \"alert_level\": \"Red: High Risk\"\n",
        "}\n",
        "display_alert(response)\n"
      ],
      "metadata": {
        "id": "skdkByvPbpwJ"
      },
      "execution_count": null,
      "outputs": []
    }
  ]
}